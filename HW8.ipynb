{
  "nbformat": 4,
  "nbformat_minor": 0,
  "metadata": {
    "colab": {
      "provenance": []
    },
    "kernelspec": {
      "name": "python3",
      "display_name": "Python 3"
    },
    "language_info": {
      "name": "python"
    }
  },
  "cells": [
    {
      "cell_type": "markdown",
      "source": [
        "## Due March 28th 2025, 11:59pm\n",
        "\n",
        "**Instructions:** Code can be added by `+Code` tab and text can be added by `+Text` tab whenever needed.\n",
        "\n"
      ],
      "metadata": {
        "id": "7Bnq-ZfWfHYw"
      }
    },
    {
      "cell_type": "markdown",
      "source": [
        "## Problem 1. [10 points]\n",
        "Short problems to practice syntax."
      ],
      "metadata": {
        "id": "nT8sHIOqgMWI"
      }
    },
    {
      "cell_type": "markdown",
      "source": [
        "1.1 Print \"Hello, everyone in COE 301! I am [Your name].\""
      ],
      "metadata": {
        "id": "vYmYyxkZgXVl"
      }
    },
    {
      "cell_type": "code",
      "source": [
        "print(\"Hello, everyone in COE 301! I am Isaac.\")"
      ],
      "metadata": {
        "id": "SN1AA7-NfaVu",
        "colab": {
          "base_uri": "https://localhost:8080/"
        },
        "outputId": "a94fd21f-929d-4f44-f4ac-3821cc6ec9ba"
      },
      "execution_count": 2,
      "outputs": [
        {
          "output_type": "stream",
          "name": "stdout",
          "text": [
            "Hello, everyone in COE 301! I am Isaac.\n"
          ]
        }
      ]
    },
    {
      "cell_type": "markdown",
      "source": [
        "**1.2** print the mathematical Euler's number $e$ to 4 decimal"
      ],
      "metadata": {
        "id": "eoR6HvoPh363"
      }
    },
    {
      "cell_type": "code",
      "source": [
        "import math\n",
        "print(f\"{math.e:.4f}\")"
      ],
      "metadata": {
        "id": "4akOaRXTh1Bl",
        "colab": {
          "base_uri": "https://localhost:8080/"
        },
        "outputId": "87962016-f7fd-4567-ca7f-f96b24c972ad"
      },
      "execution_count": 3,
      "outputs": [
        {
          "output_type": "stream",
          "name": "stdout",
          "text": [
            "2.7183\n"
          ]
        }
      ]
    },
    {
      "cell_type": "markdown",
      "source": [
        "1.3 Print out the value of $y = sin(t) +cos(5t) +0.5sin(10t)+0.8cos(20t)$ when $t = 3$"
      ],
      "metadata": {
        "id": "ylcV0LlwkoK9"
      }
    },
    {
      "cell_type": "code",
      "source": [
        "import math\n",
        "\n",
        "t = 3\n",
        "y = math.sin(t) + math.cos(5*t) + 0.5*math.sin(10*t) + 0.8*math.cos(20*t)\n",
        "print(y)"
      ],
      "metadata": {
        "id": "Xj2orkDukna3",
        "colab": {
          "base_uri": "https://localhost:8080/"
        },
        "outputId": "a9fd5873-5fb3-4792-b4ea-6ae8c42dfda7"
      },
      "execution_count": 4,
      "outputs": [
        {
          "output_type": "stream",
          "name": "stdout",
          "text": [
            "-1.87451410117751\n"
          ]
        }
      ]
    },
    {
      "cell_type": "markdown",
      "source": [
        "1.4 Write a function named `WaterTank`, which takes $r$ and $h$ as input and return $V = \\pi r^2 h$. Print the value of $V$ when $r = 2.5$ and $h = 2.4$. (We did in C++ for this in HW2)"
      ],
      "metadata": {
        "id": "sfVflL_ileMp"
      }
    },
    {
      "cell_type": "code",
      "source": [
        "import math\n",
        "\n",
        "def WaterTank(r, h):\n",
        "\n",
        "  V = math.pi * (r**2) * h\n",
        "  return V\n",
        "\n",
        "r = 2.5\n",
        "h = 2.4\n",
        "V = WaterTank(r, h)\n",
        "print(V)\n"
      ],
      "metadata": {
        "id": "vLj1zABBi6uE",
        "colab": {
          "base_uri": "https://localhost:8080/"
        },
        "outputId": "f0e887a3-1eea-43ea-dd0f-84d63f405cef"
      },
      "execution_count": 6,
      "outputs": [
        {
          "output_type": "stream",
          "name": "stdout",
          "text": [
            "47.1238898038469\n"
          ]
        }
      ]
    },
    {
      "cell_type": "markdown",
      "source": [
        "1.5 A number is considered \"Lucky\" if it is divisible by 7. If the number is also divisible by 13, it is considered \"Extra Lucky\". Use list comprehensions to print out all \"Lucky\" positive numbers less than 100 and all \"Extra Lucky\" positive numbers less than 100."
      ],
      "metadata": {
        "id": "6wOivNs_odFo"
      }
    },
    {
      "cell_type": "code",
      "source": [
        "lucky = [n for n in range(1, 100) if n % 7 == 0]\n",
        "extra_lucky = [n for n in range(1, 100) if n % 49 == 0]\n",
        "\n",
        "print(\"Lucky numbers under 100:\", lucky)\n",
        "print(\"Extra Lucky numbers under 100:\", extra_lucky)"
      ],
      "metadata": {
        "id": "GNz14nKaltJN",
        "colab": {
          "base_uri": "https://localhost:8080/"
        },
        "outputId": "80d3cb23-28c8-43e5-d5bb-47013b7c9705"
      },
      "execution_count": 7,
      "outputs": [
        {
          "output_type": "stream",
          "name": "stdout",
          "text": [
            "Lucky numbers under 100: [7, 14, 21, 28, 35, 42, 49, 56, 63, 70, 77, 84, 91, 98]\n",
            "Extra Lucky numbers under 100: [49, 98]\n"
          ]
        }
      ]
    },
    {
      "cell_type": "markdown",
      "source": [
        "## Problem 2. [15 Points]\n",
        "Define a class `UT_ID` with methods of `set_EID`, `state_EID`, `set_ID_number`, `state_IDnumber` and `say_sth`. Create an object of yourself, with your name, set your EID and IDnumber with the created object. Print your EID and ID number using `state_EID` and `state_IDnumber`. Use `say_sth` to print out {your name} says: I love UT!"
      ],
      "metadata": {
        "id": "HEcbFs1nqXma"
      }
    },
    {
      "cell_type": "code",
      "source": [
        "class UT_ID:\n",
        "  def __init__(self, name):\n",
        "        self.name = name\n",
        "        self.eid = None\n",
        "        self.id_number = None\n",
        "\n",
        "  def set_EID(self, eid):\n",
        "        self.eid = eid\n",
        "\n",
        "  def state_EID(self):\n",
        "        print(f\"EID: {self.eid}\")\n",
        "\n",
        "  def set_ID_number(self, id_number):\n",
        "        self.id_number = id_number\n",
        "\n",
        "  def state_IDnumber(self):\n",
        "        print(f\"ID Number: {self.id_number}\")\n",
        "\n",
        "  def say_sth(self):\n",
        "        print(f\"{self.name} says: I love UT!\")\n",
        "\n",
        "\n",
        "my_ut_id = UT_ID(\"Isaac Lee\")\n",
        "\n",
        "my_ut_id.set_EID(\"isl337\")\n",
        "my_ut_id.set_ID_number(\"1010101010101010\")\n",
        "\n",
        "my_ut_id.state_EID()\n",
        "my_ut_id.state_IDnumber()\n",
        "\n",
        "my_ut_id.say_sth()\n"
      ],
      "metadata": {
        "id": "8McUudDlpJ9n",
        "colab": {
          "base_uri": "https://localhost:8080/"
        },
        "outputId": "70efd4dc-aaf4-420d-94d3-b645f28a277e"
      },
      "execution_count": 8,
      "outputs": [
        {
          "output_type": "stream",
          "name": "stdout",
          "text": [
            "EID: isl337\n",
            "ID Number: 1010101010101010\n",
            "Isaac Lee says: I love UT!\n"
          ]
        }
      ]
    },
    {
      "cell_type": "markdown",
      "source": [
        "## Problem 3. [15 Points]\n",
        "Recall that we used numerical integration to approximate the value of $\\pi$ in HW4 with C++. Now write a python code to implement this. Declare a function named `NI_PI` with input N (the number of rectangles) and output the estimated $\\pi$ value. Print the results with $N = 100, 1000$ and $10000$ and the corresponding error with true $\\pi$."
      ],
      "metadata": {
        "id": "GMCbcEs0vec4"
      }
    },
    {
      "cell_type": "code",
      "source": [
        "import math\n",
        "\n",
        "def NI_PI(N):\n",
        "  width = 1.0 / N\n",
        "  total_area = 0.0\n",
        "  for i in range(N):\n",
        "      x = (i + 0.5) * width\n",
        "      total_area += 4.0 / (1.0 + x*x)\n",
        "  return total_area * width\n",
        "\n",
        "N_values = [100, 1000, 10000]\n",
        "\n",
        "for N in N_values:\n",
        "  estimated_pi = NI_PI(N)\n",
        "  error = abs(math.pi - estimated_pi)\n",
        "  print(f\"For N = {N}: Estimated π = {estimated_pi:.10f}, Error = {error:.10f}\")\n"
      ],
      "metadata": {
        "id": "KdfzDdNuBwIo",
        "colab": {
          "base_uri": "https://localhost:8080/"
        },
        "outputId": "60684729-4095-4c7d-88cc-92c47005c393"
      },
      "execution_count": 9,
      "outputs": [
        {
          "output_type": "stream",
          "name": "stdout",
          "text": [
            "For N = 100: Estimated π = 3.1416009869, Error = 0.0000083333\n",
            "For N = 1000: Estimated π = 3.1415927369, Error = 0.0000000833\n",
            "For N = 10000: Estimated π = 3.1415926544, Error = 0.0000000008\n"
          ]
        }
      ]
    },
    {
      "cell_type": "markdown",
      "source": [
        "## Problem 4 [30 Points]\n",
        "\n",
        "**Cash 5 Lottery**: Cash 5 lottery asks the player to select 5\n",
        "numbers from 1 and 35, and the player win the big prize by matching all five numbers. Write a function `count_matches` that takes a vector that contains 5 unique winning integers, and another vector of 5 unique integers a player chose. The numbers are NOT sorted. The function returns the number of matches between the winning numbers and your ticket.\n",
        "\n",
        "|Winning numbers|Player's numbers|function returns|\n",
        "|---------------|----------------|----------------|\n",
        "|[1,12,3,20,15] | [15,1,4,12,35] | 3 |\n",
        "|[35,7,26,17,8] | [8,7,26,35,17] | 5 |\n",
        "|[27,2,9,15,29] | [3,1,8,14,20]  | 0 |\n",
        "\n",
        "Write a Python code that reads 1000 Cash 5 tickes from txt file `tickets.txt` (each line contains 5 numbers that the player chose for a ticket) and compare them with the winning number [31,17,4,5,20]. Count how many tickets matches five numbers, four numbers, three numbers, two numbers, one numbers and zero numbers using the function `count_matches`.\n",
        "\n",
        "\n",
        "[*Hint: `tickets` is a list. You can define a dictionary match_counts which contains pairs of 5 matched numbers and the count of 5 matched numbers, 4 matched numbers and the count of 4 matched numbers, ...*]"
      ],
      "metadata": {
        "id": "j90Vscunzl_M"
      }
    },
    {
      "cell_type": "code",
      "source": [
        "def count_matches(winning_numbers, player_numbers):\n",
        "  \"\"\"\n",
        "    Function to count how many numbers match between the winning numbers\n",
        "    and the player's ticket.\n",
        "\n",
        "    Parameters:\n",
        "        winning_numbers (list of int): A list of 5 unique winning numbers.\n",
        "        player_numbers (list of int): A list of 5 unique numbers chosen by the player.\n",
        "\n",
        "    Returns:\n",
        "        int: The number of matches (0 to 5).\n",
        "    \"\"\"\n",
        "  return len(set(winning_numbers).intersection(player_numbers))"
      ],
      "metadata": {
        "id": "mJYESyxtzrlR"
      },
      "execution_count": null,
      "outputs": []
    },
    {
      "cell_type": "code",
      "source": [
        "# Step 1: Get the 5 Winning Numbers from User\n",
        "winning_numbers = [31,  17,  4,  5,  20]\n",
        "\n",
        "# Step 2: Open the file containing 1000 tickets\n",
        "with open(\"tickets.txt\", \"r\") as file:\n",
        "  tickets = [list(map(int, line.split())) for line in file]\n",
        "\n",
        "## implement following steps here\n",
        "match_counts = {0: 0, 1: 0, 2: 0, 3: 0, 4: 0, 5: 0}\n",
        "\n",
        "for ticket in tickets:\n",
        "  matches = count_matches(winning_numbers, ticket)\n",
        "  match_counts[matches] += 1\n",
        "\n",
        "print(\"Match counts for the given tickets:\")\n",
        "for i in range(6):\n",
        "  print(f\"{i} matches: {match_counts[i]}\")"
      ],
      "metadata": {
        "id": "31_m3-Vdz84j"
      },
      "execution_count": null,
      "outputs": []
    },
    {
      "cell_type": "markdown",
      "source": [
        "## Problem 5 [30 Points]\n",
        "\n",
        "Read more about magic method: Magic Method : https://python-course.eu/oop/magic-methods.php\n",
        "### Add more operations to `Rational` in Lecture 23.\n",
        "You can read about the available operations that you can overload [here](https://docs.python.org/3.7/reference/datamodel.html#emulating-numeric-types)\n",
        "\n",
        "Add the following operations to the `Rational` class:\n",
        "* `*` - use `__mul__`\n",
        "* `/` - use `__truediv__`\n",
        "* `-` - use `__sub__`\n",
        "\n",
        "You only need to define these operations between two `Rational` types - use an `if isinstance(other, Rational):` block.\n",
        "\n",
        "Test the results with $r_1 = 3/4$, $r_2 = 5/2$ and print `r_1 *r_2`, `r_1/r_2` and `r_1-r_2` and `float(r1/r2)`"
      ],
      "metadata": {
        "id": "6wl6dtQi_ntK"
      }
    },
    {
      "cell_type": "code",
      "source": [
        "class Rational:\n",
        "    def __init__(self, p, q=1):\n",
        "\n",
        "        if q == 0:\n",
        "            raise ValueError(\"Denominator must not be zero\")\n",
        "        if not isinstance(p, int):\n",
        "            raise TypeError(\"Numerator must be an integer\")\n",
        "        if not isinstance(q, int):\n",
        "            raise TypeError(\"Denominator must be an integer\")\n",
        "\n",
        "        g = math.gcd(p, q)\n",
        "\n",
        "        self.p = p // g\n",
        "        self.q = q // g\n",
        "\n",
        "    # method to convert rational to float\n",
        "    def __float__(self):\n",
        "        return float(self.p) / float(self.q)\n",
        "\n",
        "    # method to convert rational to string for printing\n",
        "    def __str__(self):\n",
        "        return \"%d / %d\" % (self.p, self.q)\n",
        "\n",
        "    # method to add two rationals - interprets self + other\n",
        "    def __add__(self, other):\n",
        "        if isinstance(other, Rational):\n",
        "            return Rational(self.p * other.q + other.p * self.q, self.q * other.q)\n",
        "        # -- if it's an integer...\n",
        "        elif isinstance(other, int):\n",
        "            return Rational(self.p + other * self.q, self.q)\n",
        "        # -- otherwise, we assume it will be a float\n",
        "        return float(self) + float(other)\n",
        "\n",
        "    def __radd__(self, other):  # interprets other + self\n",
        "        return self + other  # addition commutes!\n",
        "\n",
        "    # subtraction\n",
        "    def __sub__(self, other):\n",
        "        if isinstance(other, Rational):\n",
        "            new_p = self.p * other.q - other.p * self.q\n",
        "            new_q = self.q * other.q\n",
        "            return Rational(new_p, new_q)\n",
        "        elif isinstance(other, int):\n",
        "            new_p = self.p - other * self.q\n",
        "            return Rational(new_p, self.q)\n",
        "        return NotImplemented\n",
        "\n",
        "    # multiplication\n",
        "    def __mul__(self, other):\n",
        "        if isinstance(other, Rational):\n",
        "            new_p = self.p * other.p\n",
        "            new_q = self.q * other.q\n",
        "            return Rational(new_p, new_q)\n",
        "        elif isinstance(other, int):\n",
        "            new_p = self.p * other\n",
        "            return Rational(new_p, self.q)\n",
        "        return NotImplemented\n",
        "\n",
        "    # division\n",
        "    def __truediv__(self, other):\n",
        "        if isinstance(other, Rational):\n",
        "            if other.p == 0:\n",
        "                raise ZeroDivisionError(\"Cannot divide by Rational(0, x).\")\n",
        "            new_p = self.p * other.q\n",
        "            new_q = self.q * other.p\n",
        "            return Rational(new_p, new_q)\n",
        "        elif isinstance(other, int):\n",
        "            if other == 0:\n",
        "                raise ZeroDivisionError(\"Cannot divide by zero.\")\n",
        "            new_p = self.p\n",
        "            new_q = self.q * other\n",
        "            return Rational(new_p, new_q)\n",
        "        return NotImplemented"
      ],
      "metadata": {
        "id": "DD6XREdE_oFt"
      },
      "execution_count": null,
      "outputs": []
    },
    {
      "cell_type": "code",
      "source": [
        "r1 = Rational(3,4)\n",
        "r2 = Rational(5,2)\n",
        "print(f\"r1 * r2 = {r1*r2}\")\n",
        "print(f\"r1 / r2 = {r1/r2}\")\n",
        "print(f\"r1 - r2 = {r1-r2}\")\n",
        "print(f\"float(r1/r2) = {float(r1/r2)}\")"
      ],
      "metadata": {
        "id": "uPiVeSWTAkOk"
      },
      "execution_count": null,
      "outputs": []
    },
    {
      "cell_type": "code",
      "source": [],
      "metadata": {
        "id": "uZ-IKYEuAt_-"
      },
      "execution_count": null,
      "outputs": []
    }
  ]
}